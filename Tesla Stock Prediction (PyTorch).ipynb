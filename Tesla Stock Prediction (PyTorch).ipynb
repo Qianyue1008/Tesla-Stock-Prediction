{
 "cells": [
  {
   "cell_type": "code",
   "execution_count": 1,
   "metadata": {
    "collapsed": true
   },
   "outputs": [],
   "source": [
    "import torch\n",
    "import torch.nn as nn\n",
    "import torch.nn.functional as F\n",
    "import torch.optim as optim\n",
    "from torch.autograd import Variable\n",
    "import torch.utils.data as Data\n",
    "\n",
    "import numpy as np\n",
    "import pandas as pd\n",
    "import math\n",
    "from datetime import datetime\n",
    "from sklearn.preprocessing import MinMaxScaler\n",
    "from sklearn.metrics import mean_squared_error\n",
    "\n",
    "%matplotlib inline\n",
    "import matplotlib.pyplot as plt"
   ]
  },
  {
   "cell_type": "code",
   "execution_count": 2,
   "metadata": {
    "collapsed": true
   },
   "outputs": [],
   "source": [
    "class Model(nn.Module):\n",
    "    \n",
    "    def __init__(self, input_size, seq_len):\n",
    "        \n",
    "        super(Model, self).__init__()\n",
    "        \n",
    "        self.hidden_layer_size = 150\n",
    "        self.num_layers = 2\n",
    "        self.input_size = input_size\n",
    "        self.output_size = 1\n",
    "        self.seq_len = seq_len\n",
    "\n",
    "        self.lstm = nn.LSTM(input_size = self.input_size,\n",
    "                            hidden_size = self.hidden_layer_size,\n",
    "                            num_layers = self.num_layers,\n",
    "                            batch_first = True, \n",
    "                            dropout = 0.2)\n",
    "\n",
    "        self.linear = nn.Linear(self.hidden_layer_size * self.seq_len,\n",
    "                                self.output_size)\n",
    "        \n",
    "\n",
    "\n",
    "\n",
    "    def forward(self, x):\n",
    "        \n",
    "        batch_size = x.size(0)\n",
    "        seq_len = self.seq_len\n",
    "        \n",
    "        # Initializing the hidden state for first input\n",
    "        hidden = self.init_hidden(batch_size)\n",
    "        \n",
    "        lstm_out, hidden = self.lstm(x, hidden)\n",
    "                                \n",
    "        x =  lstm_out.contiguous().view(batch_size,-1)\n",
    "\n",
    "        return self.linear(x)\n",
    "    \n",
    "    \n",
    "    def init_hidden(self, batch_size):\n",
    "    \n",
    "        \n",
    "        hidden_state = torch.zeros(self.num_layers, batch_size, self.hidden_layer_size)\n",
    "        cell_state = torch.zeros(self.num_layers, batch_size, self.hidden_layer_size)\n",
    "        \n",
    "        hidden = (hidden_state, cell_state)\n",
    "                \n",
    "        return hidden\n",
    "\n"
   ]
  },
  {
   "cell_type": "code",
   "execution_count": 3,
   "metadata": {
    "collapsed": true
   },
   "outputs": [],
   "source": [
    "def parse(x):\n",
    "    return datetime.strptime(x, '%Y-%m-%d')\n",
    "\n",
    "df = pd.read_csv('TSLA.csv',  parse_dates = True, index_col=0, date_parser=parse)\n",
    "df.columns = ['Open', 'High', 'Low', 'Close', 'Adj_close', 'Volume']\n",
    "df.index.name = 'Date'"
   ]
  },
  {
   "cell_type": "code",
   "execution_count": 4,
   "metadata": {},
   "outputs": [
    {
     "data": {
      "text/html": [
       "<div>\n",
       "<style scoped>\n",
       "    .dataframe tbody tr th:only-of-type {\n",
       "        vertical-align: middle;\n",
       "    }\n",
       "\n",
       "    .dataframe tbody tr th {\n",
       "        vertical-align: top;\n",
       "    }\n",
       "\n",
       "    .dataframe thead th {\n",
       "        text-align: right;\n",
       "    }\n",
       "</style>\n",
       "<table border=\"1\" class=\"dataframe\">\n",
       "  <thead>\n",
       "    <tr style=\"text-align: right;\">\n",
       "      <th></th>\n",
       "      <th>Open</th>\n",
       "      <th>High</th>\n",
       "      <th>Low</th>\n",
       "      <th>Close</th>\n",
       "      <th>Adj_close</th>\n",
       "      <th>Volume</th>\n",
       "    </tr>\n",
       "    <tr>\n",
       "      <th>Date</th>\n",
       "      <th></th>\n",
       "      <th></th>\n",
       "      <th></th>\n",
       "      <th></th>\n",
       "      <th></th>\n",
       "      <th></th>\n",
       "    </tr>\n",
       "  </thead>\n",
       "  <tbody>\n",
       "    <tr>\n",
       "      <th>2010-06-29</th>\n",
       "      <td>19.000000</td>\n",
       "      <td>25.00</td>\n",
       "      <td>17.540001</td>\n",
       "      <td>23.889999</td>\n",
       "      <td>23.889999</td>\n",
       "      <td>18766300</td>\n",
       "    </tr>\n",
       "    <tr>\n",
       "      <th>2010-06-30</th>\n",
       "      <td>25.790001</td>\n",
       "      <td>30.42</td>\n",
       "      <td>23.299999</td>\n",
       "      <td>23.830000</td>\n",
       "      <td>23.830000</td>\n",
       "      <td>17187100</td>\n",
       "    </tr>\n",
       "    <tr>\n",
       "      <th>2010-07-01</th>\n",
       "      <td>25.000000</td>\n",
       "      <td>25.92</td>\n",
       "      <td>20.270000</td>\n",
       "      <td>21.959999</td>\n",
       "      <td>21.959999</td>\n",
       "      <td>8218800</td>\n",
       "    </tr>\n",
       "    <tr>\n",
       "      <th>2010-07-02</th>\n",
       "      <td>23.000000</td>\n",
       "      <td>23.10</td>\n",
       "      <td>18.709999</td>\n",
       "      <td>19.200001</td>\n",
       "      <td>19.200001</td>\n",
       "      <td>5139800</td>\n",
       "    </tr>\n",
       "    <tr>\n",
       "      <th>2010-07-06</th>\n",
       "      <td>20.000000</td>\n",
       "      <td>20.00</td>\n",
       "      <td>15.830000</td>\n",
       "      <td>16.110001</td>\n",
       "      <td>16.110001</td>\n",
       "      <td>6866900</td>\n",
       "    </tr>\n",
       "  </tbody>\n",
       "</table>\n",
       "</div>"
      ],
      "text/plain": [
       "                 Open   High        Low      Close  Adj_close    Volume\n",
       "Date                                                                   \n",
       "2010-06-29  19.000000  25.00  17.540001  23.889999  23.889999  18766300\n",
       "2010-06-30  25.790001  30.42  23.299999  23.830000  23.830000  17187100\n",
       "2010-07-01  25.000000  25.92  20.270000  21.959999  21.959999   8218800\n",
       "2010-07-02  23.000000  23.10  18.709999  19.200001  19.200001   5139800\n",
       "2010-07-06  20.000000  20.00  15.830000  16.110001  16.110001   6866900"
      ]
     },
     "execution_count": 4,
     "metadata": {},
     "output_type": "execute_result"
    }
   ],
   "source": [
    "df.head(5)"
   ]
  },
  {
   "cell_type": "code",
   "execution_count": 5,
   "metadata": {},
   "outputs": [
    {
     "name": "stdout",
     "output_type": "stream",
     "text": [
      "<class 'pandas.core.frame.DataFrame'>\n",
      "DatetimeIndex: 2416 entries, 2010-06-29 to 2020-02-03\n",
      "Data columns (total 6 columns):\n",
      "Open         2416 non-null float64\n",
      "High         2416 non-null float64\n",
      "Low          2416 non-null float64\n",
      "Close        2416 non-null float64\n",
      "Adj_close    2416 non-null float64\n",
      "Volume       2416 non-null int64\n",
      "dtypes: float64(5), int64(1)\n",
      "memory usage: 132.1 KB\n"
     ]
    }
   ],
   "source": [
    "df.info()"
   ]
  },
  {
   "cell_type": "code",
   "execution_count": 6,
   "metadata": {},
   "outputs": [
    {
     "data": {
      "text/html": [
       "<div>\n",
       "<style scoped>\n",
       "    .dataframe tbody tr th:only-of-type {\n",
       "        vertical-align: middle;\n",
       "    }\n",
       "\n",
       "    .dataframe tbody tr th {\n",
       "        vertical-align: top;\n",
       "    }\n",
       "\n",
       "    .dataframe thead th {\n",
       "        text-align: right;\n",
       "    }\n",
       "</style>\n",
       "<table border=\"1\" class=\"dataframe\">\n",
       "  <thead>\n",
       "    <tr style=\"text-align: right;\">\n",
       "      <th></th>\n",
       "      <th>Open</th>\n",
       "      <th>High</th>\n",
       "      <th>Low</th>\n",
       "      <th>Close</th>\n",
       "      <th>Adj_close</th>\n",
       "      <th>Volume</th>\n",
       "    </tr>\n",
       "  </thead>\n",
       "  <tbody>\n",
       "    <tr>\n",
       "      <th>count</th>\n",
       "      <td>2416.000000</td>\n",
       "      <td>2416.000000</td>\n",
       "      <td>2416.000000</td>\n",
       "      <td>2416.000000</td>\n",
       "      <td>2416.000000</td>\n",
       "      <td>2.416000e+03</td>\n",
       "    </tr>\n",
       "    <tr>\n",
       "      <th>mean</th>\n",
       "      <td>186.271147</td>\n",
       "      <td>189.578224</td>\n",
       "      <td>182.916639</td>\n",
       "      <td>186.403651</td>\n",
       "      <td>186.403651</td>\n",
       "      <td>5.572722e+06</td>\n",
       "    </tr>\n",
       "    <tr>\n",
       "      <th>std</th>\n",
       "      <td>118.740163</td>\n",
       "      <td>120.892329</td>\n",
       "      <td>116.857591</td>\n",
       "      <td>119.136020</td>\n",
       "      <td>119.136020</td>\n",
       "      <td>4.987809e+06</td>\n",
       "    </tr>\n",
       "    <tr>\n",
       "      <th>min</th>\n",
       "      <td>16.139999</td>\n",
       "      <td>16.629999</td>\n",
       "      <td>14.980000</td>\n",
       "      <td>15.800000</td>\n",
       "      <td>15.800000</td>\n",
       "      <td>1.185000e+05</td>\n",
       "    </tr>\n",
       "    <tr>\n",
       "      <th>25%</th>\n",
       "      <td>34.342498</td>\n",
       "      <td>34.897501</td>\n",
       "      <td>33.587501</td>\n",
       "      <td>34.400002</td>\n",
       "      <td>34.400002</td>\n",
       "      <td>1.899275e+06</td>\n",
       "    </tr>\n",
       "    <tr>\n",
       "      <th>50%</th>\n",
       "      <td>213.035003</td>\n",
       "      <td>216.745002</td>\n",
       "      <td>208.870002</td>\n",
       "      <td>212.960007</td>\n",
       "      <td>212.960007</td>\n",
       "      <td>4.578400e+06</td>\n",
       "    </tr>\n",
       "    <tr>\n",
       "      <th>75%</th>\n",
       "      <td>266.450012</td>\n",
       "      <td>270.927513</td>\n",
       "      <td>262.102501</td>\n",
       "      <td>266.774994</td>\n",
       "      <td>266.774994</td>\n",
       "      <td>7.361150e+06</td>\n",
       "    </tr>\n",
       "    <tr>\n",
       "      <th>max</th>\n",
       "      <td>673.690002</td>\n",
       "      <td>786.140015</td>\n",
       "      <td>673.520020</td>\n",
       "      <td>780.000000</td>\n",
       "      <td>780.000000</td>\n",
       "      <td>4.706500e+07</td>\n",
       "    </tr>\n",
       "  </tbody>\n",
       "</table>\n",
       "</div>"
      ],
      "text/plain": [
       "              Open         High          Low        Close    Adj_close  \\\n",
       "count  2416.000000  2416.000000  2416.000000  2416.000000  2416.000000   \n",
       "mean    186.271147   189.578224   182.916639   186.403651   186.403651   \n",
       "std     118.740163   120.892329   116.857591   119.136020   119.136020   \n",
       "min      16.139999    16.629999    14.980000    15.800000    15.800000   \n",
       "25%      34.342498    34.897501    33.587501    34.400002    34.400002   \n",
       "50%     213.035003   216.745002   208.870002   212.960007   212.960007   \n",
       "75%     266.450012   270.927513   262.102501   266.774994   266.774994   \n",
       "max     673.690002   786.140015   673.520020   780.000000   780.000000   \n",
       "\n",
       "             Volume  \n",
       "count  2.416000e+03  \n",
       "mean   5.572722e+06  \n",
       "std    4.987809e+06  \n",
       "min    1.185000e+05  \n",
       "25%    1.899275e+06  \n",
       "50%    4.578400e+06  \n",
       "75%    7.361150e+06  \n",
       "max    4.706500e+07  "
      ]
     },
     "execution_count": 6,
     "metadata": {},
     "output_type": "execute_result"
    }
   ],
   "source": [
    "df.describe()"
   ]
  },
  {
   "cell_type": "code",
   "execution_count": 7,
   "metadata": {},
   "outputs": [
    {
     "name": "stdout",
     "output_type": "stream",
     "text": [
      "0.0\n"
     ]
    }
   ],
   "source": [
    "print(np.var(df.Close - df.Adj_close))"
   ]
  },
  {
   "cell_type": "code",
   "execution_count": 8,
   "metadata": {
    "collapsed": true
   },
   "outputs": [],
   "source": [
    "df.drop(['Adj_close'], inplace = True, axis = 1)\n",
    "c_names = [name for name in df.columns]"
   ]
  },
  {
   "cell_type": "code",
   "execution_count": 9,
   "metadata": {
    "collapsed": true
   },
   "outputs": [],
   "source": [
    "def split_sequences(dataset, timesteps):\n",
    "    \n",
    "    X, y = [],[]\n",
    "    \n",
    "    for i in range(timesteps, dataset.shape[0]):\n",
    "        \n",
    "        X.append(dataset[i-timesteps:i, :])\n",
    "        y.append(dataset[i, -1])\n",
    "        \n",
    "    \n",
    "    X, y = np.array(X), np.array(y)\n",
    "    \n",
    "    return X, y\n"
   ]
  },
  {
   "cell_type": "code",
   "execution_count": 10,
   "metadata": {
    "collapsed": true
   },
   "outputs": [],
   "source": [
    "dataset = df.loc[:,['High', 'Low', 'Close', 'Volume', 'Open']].values \n",
    "\n",
    "num_features = 5\n",
    "\n",
    "dataset = dataset.astype('float32')\n",
    "\n",
    "scaler = MinMaxScaler(feature_range=(0, 1))\n",
    "dataset_scaled = scaler.fit_transform(dataset)"
   ]
  },
  {
   "cell_type": "code",
   "execution_count": 11,
   "metadata": {},
   "outputs": [
    {
     "name": "stdout",
     "output_type": "stream",
     "text": [
      "(2395, 21, 5)\n",
      "(2395,)\n"
     ]
    }
   ],
   "source": [
    "n_timesteps = 21 # this is number of timesteps, 21 prior days data will be used.\n",
    "\n",
    "x, y = split_sequences(dataset_scaled, n_timesteps)\n",
    "print(x.shape)\n",
    "print(y.shape)"
   ]
  },
  {
   "cell_type": "code",
   "execution_count": 12,
   "metadata": {
    "collapsed": true
   },
   "outputs": [],
   "source": [
    "train_size = 2000\n",
    "test_size = len(y) - train_size\n",
    "\n",
    "dataX = Variable(torch.Tensor(np.array(x)))\n",
    "dataY = Variable(torch.Tensor(np.array(y)))\n",
    "\n",
    "trainX = Variable(torch.Tensor(np.array(x[0:train_size])))\n",
    "trainY = Variable(torch.Tensor(np.array(y[0:train_size])))\n",
    "\n",
    "testX = Variable(torch.Tensor(np.array(x[train_size:len(x)])))\n",
    "testY = Variable(torch.Tensor(np.array(y[train_size:len(y)])))"
   ]
  },
  {
   "cell_type": "code",
   "execution_count": 18,
   "metadata": {},
   "outputs": [
    {
     "name": "stdout",
     "output_type": "stream",
     "text": [
      "Model(\n",
      "  (lstm): LSTM(5, 150, num_layers=2, batch_first=True, dropout=0.2)\n",
      "  (linear): Linear(in_features=3150, out_features=1, bias=True)\n",
      ")\n"
     ]
    }
   ],
   "source": [
    "net = Model(input_size=5, seq_len=n_timesteps) # define the network\n",
    "optimizer = torch.optim.Adam(net.parameters(), lr=0.01)  # lr is learning rate\n",
    "loss_func = torch.nn.MSELoss()  # mean squared loss\n",
    "\n",
    "print(net)"
   ]
  },
  {
   "cell_type": "code",
   "execution_count": 19,
   "metadata": {},
   "outputs": [
    {
     "name": "stdout",
     "output_type": "stream",
     "text": [
      "step 10, loss 0.0008540626\n",
      "step 20, loss 0.0034107212\n",
      "step 30, loss 0.0023126078\n",
      "step 40, loss 0.0022179664\n"
     ]
    }
   ],
   "source": [
    "EPOCH = 50\n",
    "batch_size = 32\n",
    "\n",
    "pred_data = {}\n",
    "train_loss = []\n",
    "test_loss= []\n",
    "\n",
    "\n",
    "for epoch in range(1, EPOCH):\n",
    "    \n",
    "    \n",
    "    for b in range(0, len(trainX), batch_size):\n",
    "        \n",
    "        inpt = trainX[b: b+batch_size, :, :]\n",
    "        target = trainY[b: b+batch_size]\n",
    "            \n",
    "        prediction = net(inpt)\n",
    "        loss = loss_func(prediction.view(-1), target)\n",
    "    \n",
    "        loss.backward(retain_graph=True)\n",
    "        optimizer.step()\n",
    "        optimizer.zero_grad()\n",
    "        \n",
    "    y_predict = net(testX)\n",
    "    y_predict = y_predict.data.numpy()\n",
    "    \n",
    "    net.eval()\n",
    "    y_predict = net(testX)\n",
    "        \n",
    "    pred_data[epoch] = y_predict\n",
    "    train_loss.append(loss.data.numpy())\n",
    "    test_loss.append(loss_func(y_predict.view(-1), testY))\n",
    "\n",
    "\n",
    "    if epoch % 10 == 0:\n",
    "    \n",
    "        print('step %s, loss %s' %(epoch, loss.data.numpy()))\n",
    "\n",
    "\n",
    "    "
   ]
  },
  {
   "cell_type": "code",
   "execution_count": 20,
   "metadata": {},
   "outputs": [
    {
     "data": {
      "text/plain": [
       "[<matplotlib.lines.Line2D at 0x4ff9db400>]"
      ]
     },
     "execution_count": 20,
     "metadata": {},
     "output_type": "execute_result"
    },
    {
     "data": {
      "image/png": "[encoded data removed]",
      "text/plain": [
       "<Figure size 432x288 with 1 Axes>"
      ]
     },
     "metadata": {
      "needs_background": "light"
     },
     "output_type": "display_data"
    }
   ],
   "source": [
    "plt.plot(train_loss)\n",
    "plt.plot(test_loss, color='red')"
   ]
  },
  {
   "cell_type": "code",
   "execution_count": 22,
   "metadata": {},
   "outputs": [
    {
     "name": "stdout",
     "output_type": "stream",
     "text": [
      "Test set RMSE: 61.90\n"
     ]
    },
    {
     "data": {
      "image/png": "[encoded data removed]",
      "text/plain": [
       "<Figure size 432x288 with 1 Axes>"
      ]
     },
     "metadata": {
      "needs_background": "light"
     },
     "output_type": "display_data"
    }
   ],
   "source": [
    "import math\n",
    "\n",
    "epoch = 49\n",
    "predicted_price = pred_data[epoch].data.numpy()/scaler.scale_[0]\n",
    "real_price= dataY[train_size:len(y)].data.numpy()/scaler.scale_[0]\n",
    "    \n",
    "rmse = math.sqrt(mean_squared_error(real_price, predicted_price))\n",
    "print('Test set RMSE: %.2f' % rmse)\n",
    "\n",
    "plt.plot(real_price, color='red', label='real stock price')\n",
    "plt.plot(predicted_price, color='blue', label='predicted stock price')\n",
    "plt.title('Tesla Stock Price Prediction, with EPOCH %s' %epoch)\n",
    "plt.legend()\n",
    "plt.show()"
   ]
  },
  {
   "cell_type": "code",
   "execution_count": 38,
   "metadata": {
    "collapsed": true
   },
   "outputs": [],
   "source": [
    "from torch.utils.data import DataLoader, TensorDataset\n",
    "\n",
    "batch_size = 32\n",
    "\n",
    "trainloader = DataLoader(TensorDataset(trainX, trainY), batch_size=batch_size, shuffle=True)\n",
    "testloader = DataLoader(TensorDataset(testX, testY), batch_size=batch_size, shuffle=False)\n",
    "\n",
    "dataloaders = {\n",
    "    \"train\": trainloader,\n",
    "    \"validation\": testloader\n",
    "}"
   ]
  },
  {
   "cell_type": "code",
   "execution_count": 39,
   "metadata": {},
   "outputs": [
    {
     "name": "stdout",
     "output_type": "stream",
     "text": [
      "Model(\n",
      "  (lstm): LSTM(5, 150, num_layers=2, batch_first=True, dropout=0.2)\n",
      "  (linear): Linear(in_features=3150, out_features=1, bias=True)\n",
      ")\n"
     ]
    }
   ],
   "source": [
    "model = Model(input_size=5, seq_len=n_timesteps) # define the network\n",
    "optimizer = torch.optim.Adam(model.parameters(), lr=0.01)  # lr is learning rate\n",
    "loss_func = torch.nn.MSELoss()  # mean squared loss\n",
    "num_epochs = 100\n",
    "\n",
    "print(model)"
   ]
  },
  {
   "cell_type": "code",
   "execution_count": 40,
   "metadata": {
    "scrolled": true
   },
   "outputs": [
    {
     "name": "stdout",
     "output_type": "stream",
     "text": [
      "train, step 0, loss 0.09157599001041343\n",
      "validation, step 0, loss 0.02289699321651521\n",
      "train, step 1, loss 0.03010111878956518\n",
      "validation, step 1, loss 0.04540014371741563\n",
      "train, step 2, loss 0.031418155758611614\n",
      "validation, step 2, loss 0.03810293708617488\n",
      "train, step 3, loss 0.02957908247387217\n",
      "validation, step 3, loss 0.07378085004165769\n",
      "train, step 4, loss 0.02973855839621636\n",
      "validation, step 4, loss 0.05310806259512901\n",
      "train, step 5, loss 0.029500071199670914\n",
      "validation, step 5, loss 0.051769225780541696\n",
      "train, step 6, loss 0.030763280758213614\n",
      "validation, step 6, loss 0.04214317270088941\n",
      "train, step 7, loss 0.030346225105947065\n",
      "validation, step 7, loss 0.03965119687685122\n",
      "train, step 8, loss 0.029602918173036268\n",
      "validation, step 8, loss 0.05082954574997226\n",
      "train, step 9, loss 0.029519344619925943\n",
      "validation, step 9, loss 0.03679019049741328\n",
      "train, step 10, loss 0.02982353983867553\n",
      "validation, step 10, loss 0.03684681502636522\n",
      "train, step 11, loss 0.029496963706708724\n",
      "validation, step 11, loss 0.03610409881609181\n",
      "train, step 12, loss 0.029563659952292518\n",
      "validation, step 12, loss 0.035852214049858354\n",
      "train, step 13, loss 0.029874970896109458\n",
      "validation, step 13, loss 0.05029265241076549\n",
      "train, step 14, loss 0.02953358150778278\n",
      "validation, step 14, loss 0.05473277950659394\n",
      "train, step 15, loss 0.029326217804825114\n",
      "validation, step 15, loss 0.03919614238354067\n",
      "train, step 16, loss 0.029222858108339772\n",
      "validation, step 16, loss 0.04985904934195181\n",
      "train, step 17, loss 0.02954638536058126\n",
      "validation, step 17, loss 0.05757657360906402\n",
      "train, step 18, loss 0.029693778754482345\n",
      "validation, step 18, loss 0.053865580819547176\n",
      "train, step 19, loss 0.029452925157402794\n",
      "validation, step 19, loss 0.05083028576336801\n",
      "train, step 20, loss 0.029255041401953466\n",
      "validation, step 20, loss 0.050239048044507705\n",
      "train, step 21, loss 0.029722401782149268\n",
      "validation, step 21, loss 0.03694657197532555\n",
      "train, step 22, loss 0.02966405727690266\n",
      "validation, step 22, loss 0.028164844145067036\n",
      "train, step 23, loss 0.029679560523119666\n",
      "validation, step 23, loss 0.046615475245441\n",
      "train, step 24, loss 0.029152420229248462\n",
      "validation, step 24, loss 0.036763823785198234\n",
      "train, step 25, loss 0.02940467961372868\n",
      "validation, step 25, loss 0.04081365947301189\n",
      "train, step 26, loss 0.02933393689172883\n",
      "validation, step 26, loss 0.044217000637824334\n",
      "train, step 27, loss 0.02934380960200102\n",
      "validation, step 27, loss 0.04535638129649063\n",
      "train, step 28, loss 0.029235246170672677\n",
      "validation, step 28, loss 0.03311994790177172\n",
      "train, step 29, loss 0.029414493951105302\n",
      "validation, step 29, loss 0.03529351835216706\n",
      "train, step 30, loss 0.029411991337133993\n",
      "validation, step 30, loss 0.05418484277712802\n",
      "train, step 31, loss 0.02936616798322047\n",
      "validation, step 31, loss 0.04955146360831956\n",
      "train, step 32, loss 0.029264389927829464\n",
      "validation, step 32, loss 0.04102548367033402\n",
      "train, step 33, loss 0.029301972519005497\n",
      "validation, step 33, loss 0.06596631401528914\n",
      "train, step 34, loss 0.029714924042984363\n",
      "validation, step 34, loss 0.04316387868796786\n",
      "train, step 35, loss 0.029395457747722824\n",
      "validation, step 35, loss 0.048964496003463864\n",
      "train, step 36, loss 0.029371681442904855\n",
      "validation, step 36, loss 0.046779865166172385\n",
      "train, step 37, loss 0.029760346657806826\n",
      "validation, step 37, loss 0.03903080251378318\n",
      "train, step 38, loss 0.029257965184027148\n",
      "validation, step 38, loss 0.04469661379698664\n",
      "train, step 39, loss 0.029139534329935428\n",
      "validation, step 39, loss 0.04558490550455948\n",
      "train, step 40, loss 0.029065636166882132\n",
      "validation, step 40, loss 0.05105602671392262\n",
      "train, step 41, loss 0.029165718343950087\n",
      "validation, step 41, loss 0.03989946101016054\n",
      "train, step 42, loss 0.02901506616223243\n",
      "validation, step 42, loss 0.04842238617129624\n",
      "train, step 43, loss 0.029339370768397086\n",
      "validation, step 43, loss 0.056016099794457354\n",
      "train, step 44, loss 0.029378957655881683\n",
      "validation, step 44, loss 0.042689155554398894\n",
      "train, step 45, loss 0.02919079366350366\n",
      "validation, step 45, loss 0.040888285536008574\n",
      "train, step 46, loss 0.02934395299563485\n",
      "validation, step 46, loss 0.0443834086569647\n",
      "train, step 47, loss 0.02899891940215903\n",
      "validation, step 47, loss 0.04062640511741241\n",
      "train, step 48, loss 0.029273473958094275\n",
      "validation, step 48, loss 0.04304693495699515\n",
      "train, step 49, loss 0.029189974370021975\n",
      "validation, step 49, loss 0.04511970339808613\n",
      "train, step 50, loss 0.02928292240586973\n",
      "validation, step 50, loss 0.053674327597642936\n",
      "train, step 51, loss 0.029214588835114432\n",
      "validation, step 51, loss 0.04996587351585428\n",
      "train, step 52, loss 0.02978737991783888\n",
      "validation, step 52, loss 0.03508155084758376\n",
      "train, step 53, loss 0.02967843353267639\n",
      "validation, step 53, loss 0.037746728863567114\n",
      "train, step 54, loss 0.029499910231078823\n",
      "validation, step 54, loss 0.0462636963929981\n",
      "train, step 55, loss 0.029116724377437946\n",
      "validation, step 55, loss 0.046081265046571694\n",
      "train, step 56, loss 0.02920051709177994\n",
      "validation, step 56, loss 0.0362478659953922\n",
      "train, step 57, loss 0.029219571140504653\n",
      "validation, step 57, loss 0.029364067731269945\n",
      "train, step 58, loss 0.029319109605445016\n",
      "validation, step 58, loss 0.04174571573579063\n",
      "train, step 59, loss 0.02933445326503246\n",
      "validation, step 59, loss 0.03560829209163785\n",
      "train, step 60, loss 0.029391430528654207\n",
      "validation, step 60, loss 0.043205876989911\n",
      "train, step 61, loss 0.029209864596205372\n",
      "validation, step 61, loss 0.047176020219922066\n",
      "train, step 62, loss 0.02949644297721886\n",
      "validation, step 62, loss 0.042987509397789836\n",
      "train, step 63, loss 0.029651589571468292\n",
      "validation, step 63, loss 0.040796350610132016\n",
      "train, step 64, loss 0.029162634674820206\n",
      "validation, step 64, loss 0.04896142093154291\n",
      "train, step 65, loss 0.029264399992121805\n",
      "validation, step 65, loss 0.04311747394967824\n",
      "train, step 66, loss 0.029213578500334295\n",
      "validation, step 66, loss 0.04956694048208495\n",
      "train, step 67, loss 0.0291324271069419\n",
      "validation, step 67, loss 0.04914995670939485\n",
      "train, step 68, loss 0.029232793908205726\n",
      "validation, step 68, loss 0.03707233374007046\n",
      "train, step 69, loss 0.02915895483907192\n",
      "validation, step 69, loss 0.03998906999671211\n",
      "train, step 70, loss 0.029127255412599733\n",
      "validation, step 70, loss 0.05104922542038063\n",
      "train, step 71, loss 0.02920280754446022\n",
      "validation, step 71, loss 0.04029868011518071\n",
      "train, step 72, loss 0.02936495540122832\n",
      "validation, step 72, loss 0.04454226535744965\n",
      "train, step 73, loss 0.029215666886058547\n",
      "validation, step 73, loss 0.04077677568420768\n",
      "train, step 74, loss 0.029328482405793284\n",
      "validation, step 74, loss 0.048686222483714424\n",
      "train, step 75, loss 0.03031814170460547\n",
      "validation, step 75, loss 0.0388396451016888\n",
      "train, step 76, loss 0.02958988070848488\n",
      "validation, step 76, loss 0.05095558566972613\n",
      "train, step 77, loss 0.029340580676592166\n",
      "validation, step 77, loss 0.043037504345799484\n",
      "train, step 78, loss 0.029187808173798745\n",
      "validation, step 78, loss 0.0454909666441381\n",
      "train, step 79, loss 0.029366220828265913\n",
      "validation, step 79, loss 0.04083291363591949\n",
      "train, step 80, loss 0.029812893830239773\n",
      "validation, step 80, loss 0.05166297568939626\n",
      "train, step 81, loss 0.02967241328329809\n",
      "validation, step 81, loss 0.042743531172163785\n",
      "train, step 82, loss 0.02957289278387062\n",
      "validation, step 82, loss 0.04634878939638535\n",
      "train, step 83, loss 0.029315412675421083\n",
      "validation, step 83, loss 0.04467141224692265\n",
      "train, step 84, loss 0.029091817116545092\n",
      "validation, step 84, loss 0.03685207998690506\n",
      "train, step 85, loss 0.029306440343779903\n",
      "validation, step 85, loss 0.04893131818001469\n",
      "train, step 86, loss 0.02927516659180964\n",
      "validation, step 86, loss 0.04320961085613817\n",
      "train, step 87, loss 0.02916438252695145\n",
      "validation, step 87, loss 0.05296311511968573\n",
      "train, step 88, loss 0.029498608842972788\n",
      "validation, step 88, loss 0.03837039178082099\n",
      "train, step 89, loss 0.02963461639780191\n",
      "validation, step 89, loss 0.052620665480693184\n",
      "train, step 90, loss 0.029433465773059476\n",
      "validation, step 90, loss 0.04836019081994891\n",
      "train, step 91, loss 0.029207214112243345\n",
      "validation, step 91, loss 0.039832395811875664\n",
      "train, step 92, loss 0.029131871858431448\n",
      "validation, step 92, loss 0.046970054196814694\n",
      "train, step 93, loss 0.029038644005214016\n",
      "validation, step 93, loss 0.046923256401593484\n"
     ]
    },
    {
     "name": "stdout",
     "output_type": "stream",
     "text": [
      "train, step 94, loss 0.02919636101972672\n",
      "validation, step 94, loss 0.05749160532529155\n",
      "train, step 95, loss 0.029106730805529703\n",
      "validation, step 95, loss 0.044931055628694594\n",
      "train, step 96, loss 0.029141022943921627\n",
      "validation, step 96, loss 0.045286190851281084\n",
      "train, step 97, loss 0.029070022485909924\n",
      "validation, step 97, loss 0.0483714845807602\n",
      "train, step 98, loss 0.02921353070245635\n",
      "validation, step 98, loss 0.04826771677471697\n",
      "train, step 99, loss 0.029220404373782295\n",
      "validation, step 99, loss 0.0470559427049011\n"
     ]
    }
   ],
   "source": [
    "device = torch.device('cuda:0' if torch.cuda.is_available() else 'cpu')\n",
    "\n",
    "logs = {}\n",
    "logs['log loss'] = []\n",
    "logs['val_log loss'] = []\n",
    "\n",
    "\n",
    "\n",
    "for epoch in range(num_epochs):\n",
    "    \n",
    "    model = model.to(device)\n",
    "    \n",
    "    for phase in ['train', 'validation']:\n",
    "        if phase == 'train':\n",
    "            model.train()\n",
    "        else:\n",
    "            model.eval()\n",
    "\n",
    "        running_loss = 0.0\n",
    "        count = 0\n",
    "\n",
    "        for inputs, labels in dataloaders[phase]:                \n",
    "            \n",
    "            inputs = inputs.to(device)\n",
    "            labels = labels.to(device)\n",
    "            \n",
    "            if len(inputs) != batch_size:\n",
    "                continue\n",
    " \n",
    "            outputs = model(inputs)\n",
    "            loss = loss_func(outputs, labels)\n",
    "\n",
    "            if phase == 'train':\n",
    "                optimizer.zero_grad()\n",
    "                loss.backward()\n",
    "                optimizer.step()\n",
    "\n",
    "            running_loss += loss.item()\n",
    "            count += 1\n",
    "\n",
    "        epoch_loss = running_loss / count\n",
    "            \n",
    "        prefix = ''\n",
    "        if phase == 'validation':\n",
    "            prefix = 'val_'\n",
    "\n",
    "        logs[prefix + 'log loss'].append(epoch_loss)\n",
    "        \n",
    "        print('%s, step %s, loss %s' %(phase, epoch, epoch_loss))"
   ]
  },
  {
   "cell_type": "code",
   "execution_count": 41,
   "metadata": {},
   "outputs": [
    {
     "data": {
      "text/plain": [
       "[<matplotlib.lines.Line2D at 0x5f0d94a58>]"
      ]
     },
     "execution_count": 41,
     "metadata": {},
     "output_type": "execute_result"
    },
    {
     "data": {
      "image/png": "[encoded data removed]",
      "text/plain": [
       "<Figure size 432x288 with 1 Axes>"
      ]
     },
     "metadata": {
      "needs_background": "light"
     },
     "output_type": "display_data"
    }
   ],
   "source": [
    "plt.plot(logs['log loss'])\n",
    "plt.plot(logs['val_log loss'], color='red')"
   ]
  },
  {
   "cell_type": "code",
   "execution_count": null,
   "metadata": {},
   "outputs": [],
   "source": []
  },
  {
   "cell_type": "code",
   "execution_count": null,
   "metadata": {
    "collapsed": true
   },
   "outputs": [],
   "source": []
  },
  {
   "cell_type": "code",
   "execution_count": null,
   "metadata": {
    "collapsed": true
   },
   "outputs": [],
   "source": []
  },
  {
   "cell_type": "code",
   "execution_count": null,
   "metadata": {
    "collapsed": true
   },
   "outputs": [],
   "source": []
  },
  {
   "cell_type": "code",
   "execution_count": null,
   "metadata": {
    "collapsed": true
   },
   "outputs": [],
   "source": []
  },
  {
   "cell_type": "code",
   "execution_count": null,
   "metadata": {
    "collapsed": true
   },
   "outputs": [],
   "source": []
  },
  {
   "cell_type": "code",
   "execution_count": null,
   "metadata": {
    "collapsed": true
   },
   "outputs": [],
   "source": []
  },
  {
   "cell_type": "code",
   "execution_count": null,
   "metadata": {
    "collapsed": true
   },
   "outputs": [],
   "source": []
  },
  {
   "cell_type": "code",
   "execution_count": null,
   "metadata": {
    "collapsed": true
   },
   "outputs": [],
   "source": []
  },
  {
   "cell_type": "code",
   "execution_count": null,
   "metadata": {
    "collapsed": true
   },
   "outputs": [],
   "source": []
  }
 ],
 "metadata": {
  "kernelspec": {
   "display_name": "Python 3",
   "language": "python",
   "name": "python3"
  },
  "language_info": {
   "codemirror_mode": {
    "name": "ipython",
    "version": 3
   },
   "file_extension": ".py",
   "mimetype": "text/x-python",
   "name": "python",
   "nbconvert_exporter": "python",
   "pygments_lexer": "ipython3",
   "version": "3.6.8"
  }
 },
 "nbformat": 4,
 "nbformat_minor": 2
}
